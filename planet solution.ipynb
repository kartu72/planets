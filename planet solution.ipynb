{
 "cells": [
  {
   "cell_type": "code",
   "execution_count": 28,
   "metadata": {},
   "outputs": [],
   "source": [
    "import pandas as pd\n",
    "import shap\n",
    "import numpy as np\n",
    "import matplotlib.pyplot as plt\n",
    "import mlflow\n",
    "from sklearn.metrics import classification_report, roc_auc_score, accuracy_score, f1_score, make_scorer\n",
    "from sklearn.model_selection import cross_val_score\n",
    "from sklearn.ensemble import RandomForestClassifier\n",
    "from sklearn.svm import SVC\n",
    "from sklearn.impute import KNNImputer\n",
    "from xgboost import XGBClassifier\n",
    "from sklearn.model_selection import cross_validate\n",
    "from sklearn.utils import shuffle\n",
    "from sklearn.model_selection import GridSearchCV\n",
    "from sklearn.pipeline import make_pipeline\n",
    "from sklearn.pipeline import Pipeline\n",
    "from sklearn.metrics import confusion_matrix\n",
    "from sklearn.neighbors import KNeighborsClassifier\n",
    "from sklearn.preprocessing import StandardScaler\n",
    "from sklearn.cluster import KMeans"
   ]
  },
  {
   "cell_type": "code",
   "execution_count": 2,
   "metadata": {},
   "outputs": [],
   "source": [
    "train_data=shuffle(pd.read_csv('train.csv'))\n",
    "val_data=shuffle(pd.read_csv('val.csv'))\n",
    "unlabeled_data=shuffle(pd.read_csv('unlabeled_v2.csv'))"
   ]
  },
  {
   "cell_type": "code",
   "execution_count": 10,
   "metadata": {},
   "outputs": [],
   "source": [
    "#train_data=train_data[:5000]\n",
    "#val_data=val_data[:10000]"
   ]
  },
  {
   "cell_type": "markdown",
   "metadata": {},
   "source": [
    "#### scorer"
   ]
  },
  {
   "cell_type": "code",
   "execution_count": 3,
   "metadata": {},
   "outputs": [],
   "source": [
    "f1 = make_scorer(f1_score , average='macro')"
   ]
  },
  {
   "cell_type": "markdown",
   "metadata": {},
   "source": [
    "# Data exploring"
   ]
  },
  {
   "cell_type": "code",
   "execution_count": 5,
   "metadata": {},
   "outputs": [
    {
     "data": {
      "text/plain": [
       "<BarContainer object of 3 artists>"
      ]
     },
     "execution_count": 5,
     "metadata": {},
     "output_type": "execute_result"
    },
    {
     "data": {
      "image/png": "[encoded data removed]",
      "text/plain": [
       "<Figure size 144x360 with 1 Axes>"
      ]
     },
     "metadata": {
      "needs_background": "light"
     },
     "output_type": "display_data"
    }
   ],
   "source": [
    "names = ['galaxy', 'star', 'quasar']\n",
    "counts = train_data['class'].value_counts([0,1,2])\n",
    "plt.figure(figsize=(2, 5))\n",
    "plt.ylabel('Quantity')\n",
    "plt.bar(names, counts)"
   ]
  },
  {
   "cell_type": "markdown",
   "metadata": {},
   "source": [
    "#### train_data balanced"
   ]
  },
  {
   "cell_type": "code",
   "execution_count": 6,
   "metadata": {},
   "outputs": [
    {
     "data": {
      "image/png": "[encoded data removed]",
      "text/plain": [
       "<Figure size 432x288 with 1 Axes>"
      ]
     },
     "metadata": {
      "needs_background": "light"
     },
     "output_type": "display_data"
    }
   ],
   "source": [
    "h = train_data['dec'].hist()\n",
    "fig = h.get_figure()"
   ]
  },
  {
   "cell_type": "code",
   "execution_count": 7,
   "metadata": {},
   "outputs": [
    {
     "data": {
      "image/png": "[encoded data removed]",
      "text/plain": [
       "<Figure size 432x288 with 1 Axes>"
      ]
     },
     "metadata": {
      "needs_background": "light"
     },
     "output_type": "display_data"
    }
   ],
   "source": [
    "h = val_data['dec'].hist()\n",
    "fig = h.get_figure()"
   ]
  },
  {
   "cell_type": "markdown",
   "metadata": {},
   "source": [
    "#### как видим огромная часть val_data.dec лежит в диапазоне  от 30 до 70; в train_data почти все значения dec лежат возле 0"
   ]
  },
  {
   "cell_type": "markdown",
   "metadata": {},
   "source": [
    "# Functions"
   ]
  },
  {
   "cell_type": "code",
   "execution_count": 4,
   "metadata": {},
   "outputs": [],
   "source": [
    "def preprocessing(data: pd.DataFrame):\n",
    "    f = 'class' in data\n",
    "    if f:\n",
    "        labels=data['class']\n",
    "        data=data.drop(columns='class')\n",
    "    data=data.apply(pd.to_numeric)\n",
    "    data=data.drop(columns=['objid', 'ra', 'dec'])\n",
    "    #data=data.drop(columns=['objid'])\n",
    "    if f:\n",
    "        return (data, labels)\n",
    "    else:\n",
    "        return data\n",
    "\n",
    "def null_processing(data: pd.DataFrame)  ->  pd.DataFrame:\n",
    "    data=data.replace({'na':np.NaN})\n",
    "    data.fillna(data.median(), inplace=True)\n",
    "    return data\n",
    "\n",
    "def null_knn(data: pd.DataFrame)  ->  pd.DataFrame:\n",
    "    data=data.replace({'na':np.NaN})\n",
    "    imputer = KNNImputer(n_neighbors=30,metric='nan_euclidean')\n",
    "    data = pd.DataFrame(imputer.fit_transform(data),columns = data.columns)\n",
    "    return data\n",
    "\n",
    "def predict_info(predict):\n",
    "    a0=0\n",
    "    a1=0\n",
    "    a2=0\n",
    "    for j in predict:\n",
    "        if j==0:\n",
    "            a0+=1\n",
    "        elif j==1:\n",
    "            a1+=1\n",
    "        elif j==2:\n",
    "            a2+=1\n",
    "    print(a0,a1,a2)"
   ]
  },
  {
   "cell_type": "code",
   "execution_count": 5,
   "metadata": {},
   "outputs": [],
   "source": [
    "def Clustering1(data: pd.DataFrame, train_data: pd.DataFrame)->pd.DataFrame:\n",
    "    for band in ['u','g','r','i','z']:\n",
    "        columns = []\n",
    "        for i in range(6):\n",
    "            s=band+'_'+str(i)\n",
    "            columns.append(s)\n",
    "        cluster_name='cluster_'+band\n",
    "        model = KMeans(n_clusters = 10, random_state = 42)\n",
    "        model.fit(train_data[columns])\n",
    "        data[cluster_name]=model.predict(data[columns])\n",
    "    return data\n",
    "\n",
    "def Clustering2(data: pd.DataFrame, train_data: pd.DataFrame)->pd.DataFrame:\n",
    "    for i in range(6):\n",
    "        columns = []\n",
    "        for band in ['u','g','r','i','z']:\n",
    "            s=band+'_'+str(i)\n",
    "            columns.append(s)\n",
    "        cluster_name='cluster_'+str(i)\n",
    "        model = KMeans(n_clusters = 10, random_state = 42)\n",
    "        model.fit(train_data[columns])\n",
    "        data[cluster_name]=model.predict(data[columns])\n",
    "    return data"
   ]
  },
  {
   "cell_type": "markdown",
   "metadata": {},
   "source": [
    "# Null processing"
   ]
  },
  {
   "cell_type": "code",
   "execution_count": 6,
   "metadata": {},
   "outputs": [],
   "source": [
    "#unlabeled_data=null_processing(unlabeled_data)\n",
    "#train_data=null_processing(train_data)\n",
    "#val_data=null_processing(val_data)\n",
    "\n",
    "unlabeled_data=null_knn(unlabeled_data)\n",
    "train_data=null_knn(train_data)\n",
    "val_data=null_knn(val_data)"
   ]
  },
  {
   "cell_type": "code",
   "execution_count": 7,
   "metadata": {},
   "outputs": [
    {
     "data": {
      "text/html": [
       "<div>\n",
       "<style scoped>\n",
       "    .dataframe tbody tr th:only-of-type {\n",
       "        vertical-align: middle;\n",
       "    }\n",
       "\n",
       "    .dataframe tbody tr th {\n",
       "        vertical-align: top;\n",
       "    }\n",
       "\n",
       "    .dataframe thead th {\n",
       "        text-align: right;\n",
       "    }\n",
       "</style>\n",
       "<table border=\"1\" class=\"dataframe\">\n",
       "  <thead>\n",
       "    <tr style=\"text-align: right;\">\n",
       "      <th></th>\n",
       "      <th>objid</th>\n",
       "      <th>ra</th>\n",
       "      <th>dec</th>\n",
       "      <th>u_0</th>\n",
       "      <th>g_0</th>\n",
       "      <th>r_0</th>\n",
       "      <th>i_0</th>\n",
       "      <th>z_0</th>\n",
       "      <th>clean</th>\n",
       "      <th>rowc</th>\n",
       "      <th>...</th>\n",
       "      <th>g_5</th>\n",
       "      <th>r_5</th>\n",
       "      <th>i_5</th>\n",
       "      <th>z_5</th>\n",
       "      <th>u_6</th>\n",
       "      <th>g_6</th>\n",
       "      <th>r_6</th>\n",
       "      <th>i_6</th>\n",
       "      <th>z_6</th>\n",
       "      <th>class</th>\n",
       "    </tr>\n",
       "  </thead>\n",
       "  <tbody>\n",
       "    <tr>\n",
       "      <th>0</th>\n",
       "      <td>61104.0</td>\n",
       "      <td>145.554540</td>\n",
       "      <td>0.822526</td>\n",
       "      <td>25.764190</td>\n",
       "      <td>22.22675</td>\n",
       "      <td>20.650010</td>\n",
       "      <td>19.63022</td>\n",
       "      <td>19.133000</td>\n",
       "      <td>1.0</td>\n",
       "      <td>68.15861</td>\n",
       "      <td>...</td>\n",
       "      <td>-0.079279</td>\n",
       "      <td>0.012070</td>\n",
       "      <td>-0.013209</td>\n",
       "      <td>2.170595</td>\n",
       "      <td>6.0</td>\n",
       "      <td>3.0</td>\n",
       "      <td>1.0</td>\n",
       "      <td>5.0</td>\n",
       "      <td>5.0</td>\n",
       "      <td>1.0</td>\n",
       "    </tr>\n",
       "    <tr>\n",
       "      <th>1</th>\n",
       "      <td>44262.0</td>\n",
       "      <td>157.671743</td>\n",
       "      <td>0.788167</td>\n",
       "      <td>20.956300</td>\n",
       "      <td>19.11906</td>\n",
       "      <td>17.697710</td>\n",
       "      <td>17.14728</td>\n",
       "      <td>16.766690</td>\n",
       "      <td>0.0</td>\n",
       "      <td>1364.31900</td>\n",
       "      <td>...</td>\n",
       "      <td>0.061822</td>\n",
       "      <td>0.056448</td>\n",
       "      <td>0.005643</td>\n",
       "      <td>-0.148074</td>\n",
       "      <td>3.0</td>\n",
       "      <td>5.0</td>\n",
       "      <td>5.0</td>\n",
       "      <td>6.0</td>\n",
       "      <td>3.0</td>\n",
       "      <td>1.0</td>\n",
       "    </tr>\n",
       "    <tr>\n",
       "      <th>2</th>\n",
       "      <td>21842.0</td>\n",
       "      <td>13.667472</td>\n",
       "      <td>14.419690</td>\n",
       "      <td>21.780868</td>\n",
       "      <td>20.41343</td>\n",
       "      <td>19.470778</td>\n",
       "      <td>18.17762</td>\n",
       "      <td>19.274078</td>\n",
       "      <td>1.0</td>\n",
       "      <td>412.80400</td>\n",
       "      <td>...</td>\n",
       "      <td>-0.046716</td>\n",
       "      <td>-0.019383</td>\n",
       "      <td>-0.017093</td>\n",
       "      <td>0.032382</td>\n",
       "      <td>3.0</td>\n",
       "      <td>4.0</td>\n",
       "      <td>7.0</td>\n",
       "      <td>1.0</td>\n",
       "      <td>3.0</td>\n",
       "      <td>1.0</td>\n",
       "    </tr>\n",
       "    <tr>\n",
       "      <th>3</th>\n",
       "      <td>99045.0</td>\n",
       "      <td>22.272581</td>\n",
       "      <td>38.258710</td>\n",
       "      <td>22.377636</td>\n",
       "      <td>23.62236</td>\n",
       "      <td>22.093510</td>\n",
       "      <td>22.69098</td>\n",
       "      <td>23.168520</td>\n",
       "      <td>1.0</td>\n",
       "      <td>1117.44900</td>\n",
       "      <td>...</td>\n",
       "      <td>-0.199757</td>\n",
       "      <td>0.236870</td>\n",
       "      <td>0.583948</td>\n",
       "      <td>0.703718</td>\n",
       "      <td>3.0</td>\n",
       "      <td>3.0</td>\n",
       "      <td>6.0</td>\n",
       "      <td>4.0</td>\n",
       "      <td>4.0</td>\n",
       "      <td>0.0</td>\n",
       "    </tr>\n",
       "    <tr>\n",
       "      <th>4</th>\n",
       "      <td>35112.0</td>\n",
       "      <td>169.206700</td>\n",
       "      <td>-1.038348</td>\n",
       "      <td>19.624070</td>\n",
       "      <td>18.36040</td>\n",
       "      <td>17.747800</td>\n",
       "      <td>17.31829</td>\n",
       "      <td>17.066840</td>\n",
       "      <td>1.0</td>\n",
       "      <td>96.82549</td>\n",
       "      <td>...</td>\n",
       "      <td>0.094282</td>\n",
       "      <td>-0.330661</td>\n",
       "      <td>0.012400</td>\n",
       "      <td>-0.344516</td>\n",
       "      <td>3.0</td>\n",
       "      <td>5.0</td>\n",
       "      <td>1.0</td>\n",
       "      <td>5.0</td>\n",
       "      <td>5.0</td>\n",
       "      <td>1.0</td>\n",
       "    </tr>\n",
       "  </tbody>\n",
       "</table>\n",
       "<p>5 rows × 44 columns</p>\n",
       "</div>"
      ],
      "text/plain": [
       "     objid          ra        dec        u_0       g_0        r_0       i_0  \\\n",
       "0  61104.0  145.554540   0.822526  25.764190  22.22675  20.650010  19.63022   \n",
       "1  44262.0  157.671743   0.788167  20.956300  19.11906  17.697710  17.14728   \n",
       "2  21842.0   13.667472  14.419690  21.780868  20.41343  19.470778  18.17762   \n",
       "3  99045.0   22.272581  38.258710  22.377636  23.62236  22.093510  22.69098   \n",
       "4  35112.0  169.206700  -1.038348  19.624070  18.36040  17.747800  17.31829   \n",
       "\n",
       "         z_0  clean        rowc  ...       g_5       r_5       i_5       z_5  \\\n",
       "0  19.133000    1.0    68.15861  ... -0.079279  0.012070 -0.013209  2.170595   \n",
       "1  16.766690    0.0  1364.31900  ...  0.061822  0.056448  0.005643 -0.148074   \n",
       "2  19.274078    1.0   412.80400  ... -0.046716 -0.019383 -0.017093  0.032382   \n",
       "3  23.168520    1.0  1117.44900  ... -0.199757  0.236870  0.583948  0.703718   \n",
       "4  17.066840    1.0    96.82549  ...  0.094282 -0.330661  0.012400 -0.344516   \n",
       "\n",
       "   u_6  g_6  r_6  i_6  z_6  class  \n",
       "0  6.0  3.0  1.0  5.0  5.0    1.0  \n",
       "1  3.0  5.0  5.0  6.0  3.0    1.0  \n",
       "2  3.0  4.0  7.0  1.0  3.0    1.0  \n",
       "3  3.0  3.0  6.0  4.0  4.0    0.0  \n",
       "4  3.0  5.0  1.0  5.0  5.0    1.0  \n",
       "\n",
       "[5 rows x 44 columns]"
      ]
     },
     "execution_count": 7,
     "metadata": {},
     "output_type": "execute_result"
    }
   ],
   "source": [
    "train_data.head()"
   ]
  },
  {
   "cell_type": "markdown",
   "metadata": {},
   "source": [
    "# Data preprocessing"
   ]
  },
  {
   "cell_type": "code",
   "execution_count": 8,
   "metadata": {},
   "outputs": [],
   "source": [
    "train_data, train_labels = preprocessing(train_data)\n",
    "val_data, val_labels = preprocessing(val_data)\n",
    "unlabeled_data = preprocessing(unlabeled_data)"
   ]
  },
  {
   "cell_type": "markdown",
   "metadata": {},
   "source": [
    "# Clustering"
   ]
  },
  {
   "cell_type": "code",
   "execution_count": 9,
   "metadata": {},
   "outputs": [],
   "source": [
    "train_data=Clustering1(train_data, pd.concat([train_data, unlabeled_data]))\n",
    "val_data=Clustering1(val_data, pd.concat([train_data, unlabeled_data]))\n",
    "unlabeled_data = Clustering1(unlabeled_data, pd.concat([train_data, unlabeled_data]))\n",
    "train_data=Clustering2(train_data, pd.concat([train_data, unlabeled_data]))\n",
    "val_data=Clustering2(val_data, pd.concat([train_data, unlabeled_data]))\n",
    "unlabeled_data = Clustering2(unlabeled_data, pd.concat([train_data, unlabeled_data]))\n",
    "\n",
    "#train_data=Clustering1(train_data,unlabeled_data)\n",
    "#val_data=Clustering1(val_data, unlabeled_data)\n",
    "#unlabeled_data = Clustering1(unlabeled_data, unlabeled_data)\n",
    "#train_data=Clustering2(train_data, unlabeled_data)\n",
    "#val_data=Clustering2(val_data, unlabeled_data)\n",
    "#unlabeled_data = Clustering2(unlabeled_data, unlabeled_data)"
   ]
  },
  {
   "cell_type": "code",
   "execution_count": 68,
   "metadata": {},
   "outputs": [
    {
     "data": {
      "text/html": [
       "<div>\n",
       "<style scoped>\n",
       "    .dataframe tbody tr th:only-of-type {\n",
       "        vertical-align: middle;\n",
       "    }\n",
       "\n",
       "    .dataframe tbody tr th {\n",
       "        vertical-align: top;\n",
       "    }\n",
       "\n",
       "    .dataframe thead th {\n",
       "        text-align: right;\n",
       "    }\n",
       "</style>\n",
       "<table border=\"1\" class=\"dataframe\">\n",
       "  <thead>\n",
       "    <tr style=\"text-align: right;\">\n",
       "      <th></th>\n",
       "      <th>u_0</th>\n",
       "      <th>g_0</th>\n",
       "      <th>r_0</th>\n",
       "      <th>i_0</th>\n",
       "      <th>z_0</th>\n",
       "      <th>clean</th>\n",
       "      <th>rowc</th>\n",
       "      <th>colc</th>\n",
       "      <th>rowv</th>\n",
       "      <th>colv</th>\n",
       "      <th>...</th>\n",
       "      <th>cluster_g</th>\n",
       "      <th>cluster_r</th>\n",
       "      <th>cluster_i</th>\n",
       "      <th>cluster_z</th>\n",
       "      <th>cluster_0</th>\n",
       "      <th>cluster_1</th>\n",
       "      <th>cluster_2</th>\n",
       "      <th>cluster_3</th>\n",
       "      <th>cluster_4</th>\n",
       "      <th>cluster_5</th>\n",
       "    </tr>\n",
       "  </thead>\n",
       "  <tbody>\n",
       "    <tr>\n",
       "      <th>25111</th>\n",
       "      <td>19.764770</td>\n",
       "      <td>19.154450</td>\n",
       "      <td>19.09823</td>\n",
       "      <td>19.09519</td>\n",
       "      <td>18.88353</td>\n",
       "      <td>1</td>\n",
       "      <td>1371.8680</td>\n",
       "      <td>1485.7910</td>\n",
       "      <td>0.004435</td>\n",
       "      <td>0.003774</td>\n",
       "      <td>...</td>\n",
       "      <td>4</td>\n",
       "      <td>2</td>\n",
       "      <td>0</td>\n",
       "      <td>0</td>\n",
       "      <td>6</td>\n",
       "      <td>6</td>\n",
       "      <td>7</td>\n",
       "      <td>6</td>\n",
       "      <td>0</td>\n",
       "      <td>0</td>\n",
       "    </tr>\n",
       "    <tr>\n",
       "      <th>25769</th>\n",
       "      <td>19.244930</td>\n",
       "      <td>18.732560</td>\n",
       "      <td>18.71110</td>\n",
       "      <td>18.45509</td>\n",
       "      <td>18.43127</td>\n",
       "      <td>1</td>\n",
       "      <td>891.8050</td>\n",
       "      <td>771.7614</td>\n",
       "      <td>-0.001387</td>\n",
       "      <td>-0.000877</td>\n",
       "      <td>...</td>\n",
       "      <td>9</td>\n",
       "      <td>1</td>\n",
       "      <td>8</td>\n",
       "      <td>3</td>\n",
       "      <td>6</td>\n",
       "      <td>0</td>\n",
       "      <td>9</td>\n",
       "      <td>6</td>\n",
       "      <td>0</td>\n",
       "      <td>0</td>\n",
       "    </tr>\n",
       "    <tr>\n",
       "      <th>11079</th>\n",
       "      <td>21.322970</td>\n",
       "      <td>18.897760</td>\n",
       "      <td>17.61562</td>\n",
       "      <td>17.09844</td>\n",
       "      <td>16.77241</td>\n",
       "      <td>1</td>\n",
       "      <td>1310.5040</td>\n",
       "      <td>296.2054</td>\n",
       "      <td>-0.005698</td>\n",
       "      <td>0.000023</td>\n",
       "      <td>...</td>\n",
       "      <td>3</td>\n",
       "      <td>8</td>\n",
       "      <td>9</td>\n",
       "      <td>4</td>\n",
       "      <td>1</td>\n",
       "      <td>6</td>\n",
       "      <td>2</td>\n",
       "      <td>6</td>\n",
       "      <td>0</td>\n",
       "      <td>0</td>\n",
       "    </tr>\n",
       "    <tr>\n",
       "      <th>23151</th>\n",
       "      <td>22.322765</td>\n",
       "      <td>21.248595</td>\n",
       "      <td>16.45072</td>\n",
       "      <td>15.50724</td>\n",
       "      <td>14.95377</td>\n",
       "      <td>1</td>\n",
       "      <td>140.9857</td>\n",
       "      <td>1579.8820</td>\n",
       "      <td>0.000428</td>\n",
       "      <td>0.000099</td>\n",
       "      <td>...</td>\n",
       "      <td>7</td>\n",
       "      <td>0</td>\n",
       "      <td>4</td>\n",
       "      <td>2</td>\n",
       "      <td>1</td>\n",
       "      <td>5</td>\n",
       "      <td>7</td>\n",
       "      <td>6</td>\n",
       "      <td>0</td>\n",
       "      <td>0</td>\n",
       "    </tr>\n",
       "    <tr>\n",
       "      <th>16897</th>\n",
       "      <td>18.012980</td>\n",
       "      <td>16.951320</td>\n",
       "      <td>16.55226</td>\n",
       "      <td>16.32358</td>\n",
       "      <td>16.16546</td>\n",
       "      <td>1</td>\n",
       "      <td>264.5943</td>\n",
       "      <td>720.4135</td>\n",
       "      <td>-0.001850</td>\n",
       "      <td>-0.002254</td>\n",
       "      <td>...</td>\n",
       "      <td>0</td>\n",
       "      <td>5</td>\n",
       "      <td>3</td>\n",
       "      <td>6</td>\n",
       "      <td>8</td>\n",
       "      <td>1</td>\n",
       "      <td>9</td>\n",
       "      <td>6</td>\n",
       "      <td>0</td>\n",
       "      <td>0</td>\n",
       "    </tr>\n",
       "  </tbody>\n",
       "</table>\n",
       "<p>5 rows × 51 columns</p>\n",
       "</div>"
      ],
      "text/plain": [
       "             u_0        g_0       r_0       i_0       z_0  clean       rowc  \\\n",
       "25111  19.764770  19.154450  19.09823  19.09519  18.88353      1  1371.8680   \n",
       "25769  19.244930  18.732560  18.71110  18.45509  18.43127      1   891.8050   \n",
       "11079  21.322970  18.897760  17.61562  17.09844  16.77241      1  1310.5040   \n",
       "23151  22.322765  21.248595  16.45072  15.50724  14.95377      1   140.9857   \n",
       "16897  18.012980  16.951320  16.55226  16.32358  16.16546      1   264.5943   \n",
       "\n",
       "            colc      rowv      colv  ...  cluster_g  cluster_r  cluster_i  \\\n",
       "25111  1485.7910  0.004435  0.003774  ...          4          2          0   \n",
       "25769   771.7614 -0.001387 -0.000877  ...          9          1          8   \n",
       "11079   296.2054 -0.005698  0.000023  ...          3          8          9   \n",
       "23151  1579.8820  0.000428  0.000099  ...          7          0          4   \n",
       "16897   720.4135 -0.001850 -0.002254  ...          0          5          3   \n",
       "\n",
       "       cluster_z  cluster_0  cluster_1  cluster_2  cluster_3  cluster_4  \\\n",
       "25111          0          6          6          7          6          0   \n",
       "25769          3          6          0          9          6          0   \n",
       "11079          4          1          6          2          6          0   \n",
       "23151          2          1          5          7          6          0   \n",
       "16897          6          8          1          9          6          0   \n",
       "\n",
       "       cluster_5  \n",
       "25111          0  \n",
       "25769          0  \n",
       "11079          0  \n",
       "23151          0  \n",
       "16897          0  \n",
       "\n",
       "[5 rows x 51 columns]"
      ]
     },
     "execution_count": 68,
     "metadata": {},
     "output_type": "execute_result"
    }
   ],
   "source": [
    "train_data.tail()"
   ]
  },
  {
   "cell_type": "markdown",
   "metadata": {},
   "source": [
    "# Models"
   ]
  },
  {
   "cell_type": "markdown",
   "metadata": {},
   "source": [
    "## XGB"
   ]
  },
  {
   "cell_type": "code",
   "execution_count": 30,
   "metadata": {},
   "outputs": [
    {
     "name": "stderr",
     "output_type": "stream",
     "text": [
      "WARNING:root:Malformed experiment 'mlruns'. Detailed error Yaml file 'C:\\Users\\David\\Desktop\\$machine learning solves\\planets\\mlruns\\mlruns\\meta.yaml' does not exist.\n",
      "Traceback (most recent call last):\n",
      "  File \"D:\\anaconda\\lib\\site-packages\\mlflow\\store\\tracking\\file_store.py\", line 237, in list_experiments\n",
      "    experiment = self._get_experiment(exp_id, view_type)\n",
      "  File \"D:\\anaconda\\lib\\site-packages\\mlflow\\store\\tracking\\file_store.py\", line 311, in _get_experiment\n",
      "    meta = read_yaml(experiment_dir, FileStore.META_DATA_FILE_NAME)\n",
      "  File \"D:\\anaconda\\lib\\site-packages\\mlflow\\utils\\file_utils.py\", line 170, in read_yaml\n",
      "    raise MissingConfigException(\"Yaml file '%s' does not exist.\" % file_path)\n",
      "mlflow.exceptions.MissingConfigException: Yaml file 'C:\\Users\\David\\Desktop\\$machine learning solves\\planets\\mlruns\\mlruns\\meta.yaml' does not exist.\n",
      "The use of label encoder in XGBClassifier is deprecated and will be removed in a future release. To remove this warning, do the following: 1) Pass option use_label_encoder=False when constructing XGBClassifier object; and 2) Encode your labels (y) as integers starting with 0, i.e. 0, 1, 2, ..., [num_class - 1].\n"
     ]
    },
    {
     "name": "stdout",
     "output_type": "stream",
     "text": [
      "[20:42:01] WARNING: C:/Users/Administrator/workspace/xgboost-win64_release_1.3.0/src/learner.cc:1061: Starting in XGBoost 1.3.0, the default evaluation metric used with the objective 'multi:softprob' was changed from 'merror' to 'mlogloss'. Explicitly set eval_metric if you'd like to restore the old behavior.\n",
      "f1:  0.843634461423992\n"
     ]
    }
   ],
   "source": [
    "    \n",
    "params = { \n",
    "    'learning_rate': 0.025,\n",
    "    'n_estimators': 1000,\n",
    "    'max_depth': 6,\n",
    "    'subsample': 0.75,\n",
    "    'colsample_bytree': 0.5,\n",
    "    'gamma': 1\n",
    "}\n",
    "mlflow.set_experiment('XGB')\n",
    "with mlflow.start_run():\n",
    "    model = XGBClassifier(**params, random_state=42)\n",
    "    model.fit(train_data, train_labels)\n",
    "    score = f1_score(model.predict(val_data), val_labels, average='macro')\n",
    "    print('f1: ', score)\n",
    "    mlflow.log_param('params', params)\n",
    "    mlflow.log_metric('f1_macro', score)\n",
    "#0.8436"
   ]
  },
  {
   "cell_type": "code",
   "execution_count": 11,
   "metadata": {},
   "outputs": [
    {
     "data": {
      "text/plain": [
       "{'fit_time': array([330.58698869, 330.93393612, 329.68051052, 329.07034397]),\n",
       " 'score_time': array([0.30182457, 0.23414087, 0.37853456, 0.37652969]),\n",
       " 'test_f1_micro': array([0.85986667, 0.85733333, 0.85826667, 0.854     ]),\n",
       " 'test_f1_macro': array([0.85974624, 0.85711929, 0.85796376, 0.85411483]),\n",
       " 'test_f1_weighted': array([0.85974624, 0.85711929, 0.85796376, 0.85411483])}"
      ]
     },
     "execution_count": 11,
     "metadata": {},
     "output_type": "execute_result"
    }
   ],
   "source": [
    "cv_score = cross_validate(model, train_data, train_labels, cv=4, scoring=[\"f1_micro\", \"f1_macro\", \"f1_weighted\"], n_jobs=-1)\n",
    "cv_score"
   ]
  },
  {
   "cell_type": "code",
   "execution_count": 12,
   "metadata": {},
   "outputs": [
    {
     "data": {
      "text/plain": [
       "0.8572360333430123"
      ]
     },
     "execution_count": 12,
     "metadata": {},
     "output_type": "execute_result"
    }
   ],
   "source": [
    "cv_score['test_f1_macro'].mean()\n",
    "#0.857"
   ]
  },
  {
   "cell_type": "code",
   "execution_count": null,
   "metadata": {},
   "outputs": [],
   "source": [
    "a0=0\n",
    "a1=0\n",
    "a2=0\n",
    "#print(len(train_data))\n",
    "#print(len(model.predict\n",
    "for i,j in enumerate(model.predict(val_data)):\n",
    "    if j==0:\n",
    "        a0+=1\n",
    "    elif j==1:\n",
    "        a1+=1\n",
    "    elif j==2:\n",
    "        a2+=1\n",
    "print(a0,a1,a2)"
   ]
  },
  {
   "cell_type": "code",
   "execution_count": null,
   "metadata": {},
   "outputs": [],
   "source": [
    "f1_score(model.predict(val_data), val_labels, average='macro')"
   ]
  },
  {
   "cell_type": "markdown",
   "metadata": {},
   "source": [
    "#### gridsearch(XGB)"
   ]
  },
  {
   "cell_type": "code",
   "execution_count": 20,
   "metadata": {},
   "outputs": [],
   "source": [
    "params = {\n",
    "    'random_state': [42],\n",
    "    'tree_method': ['hist'],\n",
    "    'grow_policy': ['lossguide'],\n",
    "    'n_estimators': [500,1000],\n",
    "    'eta': [0.01,0.02,0.03],\n",
    "    'max_depth': [2,3,4,5,6],\n",
    "    'min_child_weight': [1],\n",
    "    'max_bin': [120,240],\n",
    "    'subsample': [0.5,0.8,0.95],\n",
    "    'reg_lambda': [0.1, 1.0, 5.0, 10.0, 50.0, 100.0],\n",
    "\n",
    "}"
   ]
  },
  {
   "cell_type": "code",
   "execution_count": 42,
   "metadata": {},
   "outputs": [
    {
     "data": {
      "text/plain": [
       "{'eta': 0.02,\n",
       " 'grow_policy': 'lossguide',\n",
       " 'max_bin': 120,\n",
       " 'max_depth': 3,\n",
       " 'min_child_weight': 1,\n",
       " 'n_estimators': 1000,\n",
       " 'random_state': 42,\n",
       " 'reg_lambda': 100.0,\n",
       " 'subsample': 0.5,\n",
       " 'tree_method': 'hist'}"
      ]
     },
     "execution_count": 42,
     "metadata": {},
     "output_type": "execute_result"
    }
   ],
   "source": [
    "GridS.best_params_"
   ]
  },
  {
   "cell_type": "markdown",
   "metadata": {},
   "source": [
    "## SVM"
   ]
  },
  {
   "cell_type": "code",
   "execution_count": 56,
   "metadata": {},
   "outputs": [
    {
     "name": "stdout",
     "output_type": "stream",
     "text": [
      "f1:  0.7707807340941862\n"
     ]
    }
   ],
   "source": [
    "params = {'C': 0.1, 'coef0': 0.001, 'degree': 3, 'gamma': 'scale', 'kernel': 'rbf'}\n",
    "model = SVC(**params)\n",
    "clf = make_pipeline(StandardScaler(), model)\n",
    "#print('cv accuracy: ', cross_val_score(clf, train_data, train_labels, scoring='accuracy', cv = 10).mean())\n",
    "clf.fit(train_data, train_labels)\n",
    "predictions_SVM = clf.predict(val_data)\n",
    "print('f1: ', f1_score(clf.predict(val_data), val_labels,average='macro'))"
   ]
  },
  {
   "cell_type": "markdown",
   "metadata": {},
   "source": [
    "#### gridsearch(SVM)"
   ]
  },
  {
   "cell_type": "code",
   "execution_count": 73,
   "metadata": {},
   "outputs": [],
   "source": [
    "params = {\n",
    "    'kernel' : ['rbf'],\n",
    "    'C' : [0.1,0.5,1],\n",
    "    'degree': [3,6,9],\n",
    "    'coef0': [0.001,2],\n",
    "    'gamma': ('auto', 'scale')\n",
    "}"
   ]
  },
  {
   "cell_type": "code",
   "execution_count": 74,
   "metadata": {},
   "outputs": [
    {
     "name": "stdout",
     "output_type": "stream",
     "text": [
      "Fitting 3 folds for each of 36 candidates, totalling 108 fits\n"
     ]
    },
    {
     "name": "stderr",
     "output_type": "stream",
     "text": [
      "[Parallel(n_jobs=-1)]: Using backend LokyBackend with 4 concurrent workers.\n",
      "[Parallel(n_jobs=-1)]: Done  24 tasks      | elapsed:  8.5min\n",
      "[Parallel(n_jobs=-1)]: Done 108 out of 108 | elapsed: 41.0min finished\n"
     ]
    },
    {
     "data": {
      "text/plain": [
       "GridSearchCV(cv=3, estimator=SVC(), n_jobs=-1,\n",
       "             param_grid={'C': [0.1, 0.5, 1], 'coef0': [0.001, 2],\n",
       "                         'degree': [3, 6, 9], 'gamma': ('auto', 'scale'),\n",
       "                         'kernel': ['rbf']},\n",
       "             scoring=make_scorer(f1_score, average=macro), verbose=3)"
      ]
     },
     "execution_count": 74,
     "metadata": {},
     "output_type": "execute_result"
    }
   ],
   "source": [
    "GSmodel=SVC()\n",
    "GridS = GridSearchCV(GSmodel,params, cv=3,verbose=3, n_jobs=-1,scoring=f1)\n",
    "GridS.fit(train_data, train_labels)"
   ]
  },
  {
   "cell_type": "code",
   "execution_count": 75,
   "metadata": {},
   "outputs": [
    {
     "data": {
      "text/plain": [
       "{'C': 0.1, 'coef0': 0.001, 'degree': 3, 'gamma': 'scale', 'kernel': 'rbf'}"
      ]
     },
     "execution_count": 75,
     "metadata": {},
     "output_type": "execute_result"
    }
   ],
   "source": [
    "GridS.best_params_"
   ]
  },
  {
   "cell_type": "code",
   "execution_count": 60,
   "metadata": {},
   "outputs": [
    {
     "name": "stdout",
     "output_type": "stream",
     "text": [
      "16392 3648 3293\n"
     ]
    }
   ],
   "source": [
    "predict_info(predictions_SVM)"
   ]
  },
  {
   "cell_type": "code",
   "execution_count": 59,
   "metadata": {},
   "outputs": [
    {
     "name": "stdout",
     "output_type": "stream",
     "text": [
      "16392 3648 3293\n"
     ]
    }
   ],
   "source": [
    "a0=0\n",
    "a1=0\n",
    "a2=0\n",
    "for i,j in enumerate(clf.predict(val_data)):\n",
    "    if j==0:\n",
    "        a0+=1\n",
    "    elif j==1:\n",
    "        a1+=1\n",
    "    elif j==2:\n",
    "        a2+=1\n",
    "print(a0,a1,a2)"
   ]
  },
  {
   "cell_type": "markdown",
   "metadata": {},
   "source": [
    "# RF"
   ]
  },
  {
   "cell_type": "code",
   "execution_count": 57,
   "metadata": {},
   "outputs": [
    {
     "name": "stdout",
     "output_type": "stream",
     "text": [
      "f1:  0.8021061899825855\n"
     ]
    }
   ],
   "source": [
    "params = {\"n_estimators\": 10,\n",
    "    \"criterion\": \"gini\",\n",
    "    \"min_samples_split\": 10,\n",
    "    \"max_features\": \"auto\",\n",
    "    \"bootstrap\": True,\n",
    "    \"n_jobs\": -1}\n",
    "model = RandomForestClassifier(**params)\n",
    "#print('cv accuracy: ', cross_val_score(model, train_data, train_labels, scoring='accuracy', cv = 10).mean())\n",
    "model.fit(train_data, train_labels)\n",
    "predictions_RF = model.predict(val_data)\n",
    "print('f1: ', f1_score(model.predict(val_data), val_labels, average='macro'))"
   ]
  },
  {
   "cell_type": "code",
   "execution_count": 15,
   "metadata": {},
   "outputs": [
    {
     "data": {
      "text/plain": [
       "{'fit_time': array([1.91488361, 1.31097293, 1.95794892, 1.20080781, 1.25388598,\n",
       "        1.48122883, 1.5463264 , 1.74062085, 1.16174889, 1.18077779]),\n",
       " 'score_time': array([0.02002859, 0.57286286, 0.37256098, 0.64597249, 0.46469951,\n",
       "        0.35553455, 0.30245638, 0.65098214, 0.02203393, 0.01702523]),\n",
       " 'test_f1_micro': array([0.817     , 0.81066667, 0.81433333, 0.80366667, 0.85066667,\n",
       "        0.831     , 0.836     , 0.849     , 0.83366667, 0.826     ]),\n",
       " 'test_f1_macro': array([0.81616898, 0.81071378, 0.81400467, 0.8039977 , 0.85038787,\n",
       "        0.82993452, 0.8351612 , 0.84830815, 0.83349679, 0.82619007]),\n",
       " 'test_f1_weighted': array([0.81616898, 0.81071378, 0.81400467, 0.8039977 , 0.85038787,\n",
       "        0.82993452, 0.8351612 , 0.84830815, 0.83349679, 0.82619007])}"
      ]
     },
     "execution_count": 15,
     "metadata": {},
     "output_type": "execute_result"
    }
   ],
   "source": [
    "rfc_knn_score = cross_validate(model, train_data, train_labels, cv=10, scoring=[\"f1_micro\", \"f1_macro\", \"f1_weighted\"], n_jobs=-1)\n",
    "rfc_knn_score"
   ]
  },
  {
   "cell_type": "code",
   "execution_count": null,
   "metadata": {},
   "outputs": [],
   "source": [
    "for k, v in rfc_knn_score.items():\n",
    "    print(k, np.mean(v))"
   ]
  },
  {
   "cell_type": "code",
   "execution_count": 10,
   "metadata": {},
   "outputs": [
    {
     "name": "stdout",
     "output_type": "stream",
     "text": [
      "15140 418 7775\n"
     ]
    }
   ],
   "source": [
    "predict_info(predictions_RF)"
   ]
  },
  {
   "cell_type": "markdown",
   "metadata": {},
   "source": [
    "# kNN"
   ]
  },
  {
   "cell_type": "code",
   "execution_count": 72,
   "metadata": {},
   "outputs": [
    {
     "name": "stdout",
     "output_type": "stream",
     "text": [
      "f1:  0.7255196853171865\n"
     ]
    }
   ],
   "source": [
    "params={'n_neighbors': 13}\n",
    "model = KNeighborsClassifier(**params)\n",
    "clf = make_pipeline(StandardScaler(), model)\n",
    "clf.fit(train_data, train_labels)\n",
    "\n",
    "predictions_kNN = clf.predict(val_data)\n",
    "print('f1: ', f1_score(clf.predict(val_data), val_labels, average='macro'))"
   ]
  },
  {
   "cell_type": "code",
   "execution_count": 70,
   "metadata": {},
   "outputs": [
    {
     "name": "stdout",
     "output_type": "stream",
     "text": [
      "14569 3560 5204\n"
     ]
    }
   ],
   "source": [
    "predict_info(predictions_kNN)"
   ]
  },
  {
   "cell_type": "code",
   "execution_count": 15,
   "metadata": {},
   "outputs": [],
   "source": [
    "model = KMeans(n_clusters = 10, random_state = 42)"
   ]
  },
  {
   "cell_type": "markdown",
   "metadata": {},
   "source": [
    "# Feature importance (XGB)"
   ]
  },
  {
   "cell_type": "code",
   "execution_count": 14,
   "metadata": {},
   "outputs": [],
   "source": [
    "importance = model.feature_importances_.squeeze()\n",
    "columns = train_data.columns"
   ]
  },
  {
   "cell_type": "code",
   "execution_count": 26,
   "metadata": {},
   "outputs": [
    {
     "data": {
      "text/plain": [
       "{'u_0': 0.02138557,\n",
       " 'g_0': 0.05248179,\n",
       " 'r_0': 0.030337384,\n",
       " 'i_0': 0.037116125,\n",
       " 'z_0': 0.048464473,\n",
       " 'clean': 0.089074925,\n",
       " 'rowc': 0.0062960708,\n",
       " 'colc': 0.006659851,\n",
       " 'rowv': 0.008507476,\n",
       " 'colv': 0.011087694,\n",
       " 'u_1': 0.0064582834,\n",
       " 'g_1': 0.006460147,\n",
       " 'r_1': 0.006756885,\n",
       " 'i_1': 0.0066626086,\n",
       " 'z_1': 0.006719044,\n",
       " 'u_2': 0.006486106,\n",
       " 'g_2': 0.0070276856,\n",
       " 'r_2': 0.0066424995,\n",
       " 'i_2': 0.0069234343,\n",
       " 'z_2': 0.007178054,\n",
       " 'u_3': 0.018848326,\n",
       " 'g_3': 0.042213615,\n",
       " 'r_3': 0.020207489,\n",
       " 'i_3': 0.026257364,\n",
       " 'z_3': 0.013320675,\n",
       " 'u_4': 0.00704155,\n",
       " 'g_4': 0.0109742265,\n",
       " 'r_4': 0.0103679625,\n",
       " 'i_4': 0.008845788,\n",
       " 'z_4': 0.0070118206,\n",
       " 'u_5': 0.006950821,\n",
       " 'g_5': 0.010223589,\n",
       " 'r_5': 0.009369826,\n",
       " 'i_5': 0.008519645,\n",
       " 'z_5': 0.007679118,\n",
       " 'u_6': 0.062195834,\n",
       " 'g_6': 0.18332422,\n",
       " 'r_6': 0.011770444,\n",
       " 'i_6': 0.019977443,\n",
       " 'z_6': 0.023038926,\n",
       " 'cluster_u': 0.0065962914,\n",
       " 'cluster_g': 0.0061175167,\n",
       " 'cluster_r': 0.0059020794,\n",
       " 'cluster_i': 0.006437174,\n",
       " 'cluster_z': 0.005951612,\n",
       " 'cluster_0': 0.05057969,\n",
       " 'cluster_1': 0.0059606335,\n",
       " 'cluster_2': 0.0058539873,\n",
       " 'cluster_3': 0.017890662,\n",
       " 'cluster_4': 0.0018455617,\n",
       " 'cluster_5': 0.0}"
      ]
     },
     "execution_count": 26,
     "metadata": {},
     "output_type": "execute_result"
    }
   ],
   "source": [
    "res = dict(zip(columns, importance)) \n",
    "res"
   ]
  },
  {
   "cell_type": "code",
   "execution_count": 31,
   "metadata": {},
   "outputs": [
    {
     "data": {
      "text/plain": [
       "array([[12248,   872,   213],\n",
       "       [  672,  3653,   675],\n",
       "       [  328,   228,  4444]], dtype=int64)"
      ]
     },
     "execution_count": 31,
     "metadata": {},
     "output_type": "execute_result"
    }
   ],
   "source": [
    "confusion_matrix(val_labels,model.predict(val_data))"
   ]
  },
  {
   "cell_type": "code",
   "execution_count": null,
   "metadata": {},
   "outputs": [],
   "source": []
  }
 ],
 "metadata": {
  "kernelspec": {
   "display_name": "Python 3",
   "language": "python",
   "name": "python3"
  },
  "language_info": {
   "codemirror_mode": {
    "name": "ipython",
    "version": 3
   },
   "file_extension": ".py",
   "mimetype": "text/x-python",
   "name": "python",
   "nbconvert_exporter": "python",
   "pygments_lexer": "ipython3",
   "version": "3.8.5"
  }
 },
 "nbformat": 4,
 "nbformat_minor": 4
}
